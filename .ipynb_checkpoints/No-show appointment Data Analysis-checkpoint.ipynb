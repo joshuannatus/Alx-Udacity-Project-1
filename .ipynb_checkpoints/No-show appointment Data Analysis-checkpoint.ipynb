{
 "cells": [
  {
   "cell_type": "markdown",
   "metadata": {},
   "source": [
    "\n",
    "\n",
    "# Project: No-show appointment Data Analysis\n",
    "\n",
    "\n",
    "## Table of Contents\n",
    "<ul>\n",
    "<li><a href=\"#intro\">Introduction</a></li>\n",
    "<li><a href=\"#wrangling\">Data Wrangling</a></li>\n",
    "<li><a href=\"#eda\">Exploratory Data Analysis</a></li>\n",
    "<li><a href=\"#conclusions\">Conclusions</a></li>\n",
    "</ul>"
   ]
  },
  {
   "cell_type": "markdown",
   "metadata": {},
   "source": [
    "<a id='intro'></a>\n",
    "## Introduction\n",
    "\n",
    "> In this project I will be analying and investigating the data **'No-Show appointments'** collected from 100 thousand medical appiontments in Brazil. With an interest in public health, I chose this dataset because it offers me a first hand experience of handing a data which I believed to be a real-world scenario in examining public health related issues.\n",
    ">\n",
    "> Particularly I would want to investigate which days of the week people are most likely to attend an appointment, as well as which days of the week they are most likely to miss an appointment.\n",
    "\n",
    "> ### Features of the data\n",
    ">* ‘ScheduledDay’ tells us on what day the patient set up their appointment.  \n",
    ">* ‘Neighborhood’ indicates the location of the hospital.  \n",
    ">* ‘Scholarship’ indicates whether or not the patient is enrolled in Brasilian welfare program Bolsa Família.  \n",
    ">* ‘No_show’ it says ‘No’ if the patient showed up to their appointment, and ‘Yes’ if they did not show up."
   ]
  },
  {
   "cell_type": "code",
   "execution_count": 1,
   "metadata": {},
   "outputs": [],
   "source": [
    "#importing all the neccesary packages\n",
    "\n",
    "import pandas as pd\n",
    "import numpy as np\n",
    "import matplotlib.pyplot as plt\n",
    "import seaborn as sns\n",
    "%matplotlib inline\n"
   ]
  },
  {
   "cell_type": "markdown",
   "metadata": {},
   "source": [
    "<a id='wrangling'></a>\n",
    "## Data Wrangling\n",
    "\n",
    "> In this section of the report, I will load in the data, check for cleanliness, and then trim and clean the dataset for analysis. \n",
    "\n",
    "### General Properties"
   ]
  },
  {
   "cell_type": "code",
   "execution_count": 2,
   "metadata": {},
   "outputs": [
    {
     "data": {
      "text/html": [
       "<div>\n",
       "<style scoped>\n",
       "    .dataframe tbody tr th:only-of-type {\n",
       "        vertical-align: middle;\n",
       "    }\n",
       "\n",
       "    .dataframe tbody tr th {\n",
       "        vertical-align: top;\n",
       "    }\n",
       "\n",
       "    .dataframe thead th {\n",
       "        text-align: right;\n",
       "    }\n",
       "</style>\n",
       "<table border=\"1\" class=\"dataframe\">\n",
       "  <thead>\n",
       "    <tr style=\"text-align: right;\">\n",
       "      <th></th>\n",
       "      <th>PatientId</th>\n",
       "      <th>AppointmentID</th>\n",
       "      <th>Gender</th>\n",
       "      <th>ScheduledDay</th>\n",
       "      <th>AppointmentDay</th>\n",
       "      <th>Age</th>\n",
       "      <th>Neighbourhood</th>\n",
       "      <th>Scholarship</th>\n",
       "      <th>Hipertension</th>\n",
       "      <th>Diabetes</th>\n",
       "      <th>Alcoholism</th>\n",
       "      <th>Handcap</th>\n",
       "      <th>SMS_received</th>\n",
       "      <th>No-show</th>\n",
       "    </tr>\n",
       "  </thead>\n",
       "  <tbody>\n",
       "    <tr>\n",
       "      <th>0</th>\n",
       "      <td>2.987250e+13</td>\n",
       "      <td>5642903</td>\n",
       "      <td>F</td>\n",
       "      <td>2016-04-29T18:38:08Z</td>\n",
       "      <td>2016-04-29T00:00:00Z</td>\n",
       "      <td>62</td>\n",
       "      <td>JARDIM DA PENHA</td>\n",
       "      <td>0</td>\n",
       "      <td>1</td>\n",
       "      <td>0</td>\n",
       "      <td>0</td>\n",
       "      <td>0</td>\n",
       "      <td>0</td>\n",
       "      <td>No</td>\n",
       "    </tr>\n",
       "    <tr>\n",
       "      <th>1</th>\n",
       "      <td>5.589978e+14</td>\n",
       "      <td>5642503</td>\n",
       "      <td>M</td>\n",
       "      <td>2016-04-29T16:08:27Z</td>\n",
       "      <td>2016-04-29T00:00:00Z</td>\n",
       "      <td>56</td>\n",
       "      <td>JARDIM DA PENHA</td>\n",
       "      <td>0</td>\n",
       "      <td>0</td>\n",
       "      <td>0</td>\n",
       "      <td>0</td>\n",
       "      <td>0</td>\n",
       "      <td>0</td>\n",
       "      <td>No</td>\n",
       "    </tr>\n",
       "    <tr>\n",
       "      <th>2</th>\n",
       "      <td>4.262962e+12</td>\n",
       "      <td>5642549</td>\n",
       "      <td>F</td>\n",
       "      <td>2016-04-29T16:19:04Z</td>\n",
       "      <td>2016-04-29T00:00:00Z</td>\n",
       "      <td>62</td>\n",
       "      <td>MATA DA PRAIA</td>\n",
       "      <td>0</td>\n",
       "      <td>0</td>\n",
       "      <td>0</td>\n",
       "      <td>0</td>\n",
       "      <td>0</td>\n",
       "      <td>0</td>\n",
       "      <td>No</td>\n",
       "    </tr>\n",
       "    <tr>\n",
       "      <th>3</th>\n",
       "      <td>8.679512e+11</td>\n",
       "      <td>5642828</td>\n",
       "      <td>F</td>\n",
       "      <td>2016-04-29T17:29:31Z</td>\n",
       "      <td>2016-04-29T00:00:00Z</td>\n",
       "      <td>8</td>\n",
       "      <td>PONTAL DE CAMBURI</td>\n",
       "      <td>0</td>\n",
       "      <td>0</td>\n",
       "      <td>0</td>\n",
       "      <td>0</td>\n",
       "      <td>0</td>\n",
       "      <td>0</td>\n",
       "      <td>No</td>\n",
       "    </tr>\n",
       "    <tr>\n",
       "      <th>4</th>\n",
       "      <td>8.841186e+12</td>\n",
       "      <td>5642494</td>\n",
       "      <td>F</td>\n",
       "      <td>2016-04-29T16:07:23Z</td>\n",
       "      <td>2016-04-29T00:00:00Z</td>\n",
       "      <td>56</td>\n",
       "      <td>JARDIM DA PENHA</td>\n",
       "      <td>0</td>\n",
       "      <td>1</td>\n",
       "      <td>1</td>\n",
       "      <td>0</td>\n",
       "      <td>0</td>\n",
       "      <td>0</td>\n",
       "      <td>No</td>\n",
       "    </tr>\n",
       "  </tbody>\n",
       "</table>\n",
       "</div>"
      ],
      "text/plain": [
       "      PatientId  AppointmentID Gender          ScheduledDay  \\\n",
       "0  2.987250e+13        5642903      F  2016-04-29T18:38:08Z   \n",
       "1  5.589978e+14        5642503      M  2016-04-29T16:08:27Z   \n",
       "2  4.262962e+12        5642549      F  2016-04-29T16:19:04Z   \n",
       "3  8.679512e+11        5642828      F  2016-04-29T17:29:31Z   \n",
       "4  8.841186e+12        5642494      F  2016-04-29T16:07:23Z   \n",
       "\n",
       "         AppointmentDay  Age      Neighbourhood  Scholarship  Hipertension  \\\n",
       "0  2016-04-29T00:00:00Z   62    JARDIM DA PENHA            0             1   \n",
       "1  2016-04-29T00:00:00Z   56    JARDIM DA PENHA            0             0   \n",
       "2  2016-04-29T00:00:00Z   62      MATA DA PRAIA            0             0   \n",
       "3  2016-04-29T00:00:00Z    8  PONTAL DE CAMBURI            0             0   \n",
       "4  2016-04-29T00:00:00Z   56    JARDIM DA PENHA            0             1   \n",
       "\n",
       "   Diabetes  Alcoholism  Handcap  SMS_received No-show  \n",
       "0         0           0        0             0      No  \n",
       "1         0           0        0             0      No  \n",
       "2         0           0        0             0      No  \n",
       "3         0           0        0             0      No  \n",
       "4         1           0        0             0      No  "
      ]
     },
     "execution_count": 2,
     "metadata": {},
     "output_type": "execute_result"
    }
   ],
   "source": [
    "# Load your data and print out a few lines.\n",
    "df= pd.read_csv('noshowappointments-kagglev2-may-2016.csv')\n",
    "df.head()"
   ]
  },
  {
   "cell_type": "markdown",
   "metadata": {},
   "source": [
    "> Looking at the data their is a disparity with the AppointmentDay, it supposed to be a day or days after the ScheduledDay but it is not\n",
    ">\n",
    "> **Note:** \n",
    ">* ScheduledDay is the day the patient set up their appointment.\n",
    ">* AppointmentDay is supposed to be the date of the appointment. "
   ]
  },
  {
   "cell_type": "code",
   "execution_count": 3,
   "metadata": {},
   "outputs": [
    {
     "data": {
      "text/html": [
       "<div>\n",
       "<style scoped>\n",
       "    .dataframe tbody tr th:only-of-type {\n",
       "        vertical-align: middle;\n",
       "    }\n",
       "\n",
       "    .dataframe tbody tr th {\n",
       "        vertical-align: top;\n",
       "    }\n",
       "\n",
       "    .dataframe thead th {\n",
       "        text-align: right;\n",
       "    }\n",
       "</style>\n",
       "<table border=\"1\" class=\"dataframe\">\n",
       "  <thead>\n",
       "    <tr style=\"text-align: right;\">\n",
       "      <th></th>\n",
       "      <th>PatientId</th>\n",
       "      <th>AppointmentID</th>\n",
       "      <th>Gender</th>\n",
       "      <th>ScheduledDay</th>\n",
       "      <th>AppointmentDay</th>\n",
       "      <th>Age</th>\n",
       "      <th>Neighbourhood</th>\n",
       "      <th>Scholarship</th>\n",
       "      <th>Hipertension</th>\n",
       "      <th>Diabetes</th>\n",
       "      <th>Alcoholism</th>\n",
       "      <th>Handcap</th>\n",
       "      <th>SMS_received</th>\n",
       "      <th>No-show</th>\n",
       "    </tr>\n",
       "  </thead>\n",
       "  <tbody>\n",
       "    <tr>\n",
       "      <th>110522</th>\n",
       "      <td>2.572134e+12</td>\n",
       "      <td>5651768</td>\n",
       "      <td>F</td>\n",
       "      <td>2016-05-03T09:15:35Z</td>\n",
       "      <td>2016-06-07T00:00:00Z</td>\n",
       "      <td>56</td>\n",
       "      <td>MARIA ORTIZ</td>\n",
       "      <td>0</td>\n",
       "      <td>0</td>\n",
       "      <td>0</td>\n",
       "      <td>0</td>\n",
       "      <td>0</td>\n",
       "      <td>1</td>\n",
       "      <td>No</td>\n",
       "    </tr>\n",
       "    <tr>\n",
       "      <th>110523</th>\n",
       "      <td>3.596266e+12</td>\n",
       "      <td>5650093</td>\n",
       "      <td>F</td>\n",
       "      <td>2016-05-03T07:27:33Z</td>\n",
       "      <td>2016-06-07T00:00:00Z</td>\n",
       "      <td>51</td>\n",
       "      <td>MARIA ORTIZ</td>\n",
       "      <td>0</td>\n",
       "      <td>0</td>\n",
       "      <td>0</td>\n",
       "      <td>0</td>\n",
       "      <td>0</td>\n",
       "      <td>1</td>\n",
       "      <td>No</td>\n",
       "    </tr>\n",
       "    <tr>\n",
       "      <th>110524</th>\n",
       "      <td>1.557663e+13</td>\n",
       "      <td>5630692</td>\n",
       "      <td>F</td>\n",
       "      <td>2016-04-27T16:03:52Z</td>\n",
       "      <td>2016-06-07T00:00:00Z</td>\n",
       "      <td>21</td>\n",
       "      <td>MARIA ORTIZ</td>\n",
       "      <td>0</td>\n",
       "      <td>0</td>\n",
       "      <td>0</td>\n",
       "      <td>0</td>\n",
       "      <td>0</td>\n",
       "      <td>1</td>\n",
       "      <td>No</td>\n",
       "    </tr>\n",
       "    <tr>\n",
       "      <th>110525</th>\n",
       "      <td>9.213493e+13</td>\n",
       "      <td>5630323</td>\n",
       "      <td>F</td>\n",
       "      <td>2016-04-27T15:09:23Z</td>\n",
       "      <td>2016-06-07T00:00:00Z</td>\n",
       "      <td>38</td>\n",
       "      <td>MARIA ORTIZ</td>\n",
       "      <td>0</td>\n",
       "      <td>0</td>\n",
       "      <td>0</td>\n",
       "      <td>0</td>\n",
       "      <td>0</td>\n",
       "      <td>1</td>\n",
       "      <td>No</td>\n",
       "    </tr>\n",
       "    <tr>\n",
       "      <th>110526</th>\n",
       "      <td>3.775115e+14</td>\n",
       "      <td>5629448</td>\n",
       "      <td>F</td>\n",
       "      <td>2016-04-27T13:30:56Z</td>\n",
       "      <td>2016-06-07T00:00:00Z</td>\n",
       "      <td>54</td>\n",
       "      <td>MARIA ORTIZ</td>\n",
       "      <td>0</td>\n",
       "      <td>0</td>\n",
       "      <td>0</td>\n",
       "      <td>0</td>\n",
       "      <td>0</td>\n",
       "      <td>1</td>\n",
       "      <td>No</td>\n",
       "    </tr>\n",
       "  </tbody>\n",
       "</table>\n",
       "</div>"
      ],
      "text/plain": [
       "           PatientId  AppointmentID Gender          ScheduledDay  \\\n",
       "110522  2.572134e+12        5651768      F  2016-05-03T09:15:35Z   \n",
       "110523  3.596266e+12        5650093      F  2016-05-03T07:27:33Z   \n",
       "110524  1.557663e+13        5630692      F  2016-04-27T16:03:52Z   \n",
       "110525  9.213493e+13        5630323      F  2016-04-27T15:09:23Z   \n",
       "110526  3.775115e+14        5629448      F  2016-04-27T13:30:56Z   \n",
       "\n",
       "              AppointmentDay  Age Neighbourhood  Scholarship  Hipertension  \\\n",
       "110522  2016-06-07T00:00:00Z   56   MARIA ORTIZ            0             0   \n",
       "110523  2016-06-07T00:00:00Z   51   MARIA ORTIZ            0             0   \n",
       "110524  2016-06-07T00:00:00Z   21   MARIA ORTIZ            0             0   \n",
       "110525  2016-06-07T00:00:00Z   38   MARIA ORTIZ            0             0   \n",
       "110526  2016-06-07T00:00:00Z   54   MARIA ORTIZ            0             0   \n",
       "\n",
       "        Diabetes  Alcoholism  Handcap  SMS_received No-show  \n",
       "110522         0           0        0             1      No  \n",
       "110523         0           0        0             1      No  \n",
       "110524         0           0        0             1      No  \n",
       "110525         0           0        0             1      No  \n",
       "110526         0           0        0             1      No  "
      ]
     },
     "execution_count": 3,
     "metadata": {},
     "output_type": "execute_result"
    }
   ],
   "source": [
    "# display the last data from the database to inspect the consistency and data layout\n",
    "df.tail()"
   ]
  },
  {
   "cell_type": "code",
   "execution_count": 4,
   "metadata": {},
   "outputs": [
    {
     "data": {
      "text/plain": [
       "(110527, 14)"
      ]
     },
     "execution_count": 4,
     "metadata": {},
     "output_type": "execute_result"
    }
   ],
   "source": [
    "# Using the shape to check the size of the data\n",
    "\n",
    "df.shape"
   ]
  },
  {
   "cell_type": "markdown",
   "metadata": {},
   "source": [
    "> The data set has 110527 columns and 14 rows"
   ]
  },
  {
   "cell_type": "markdown",
   "metadata": {},
   "source": [
    "#### Summary Statistics"
   ]
  },
  {
   "cell_type": "code",
   "execution_count": 5,
   "metadata": {},
   "outputs": [
    {
     "data": {
      "text/html": [
       "<div>\n",
       "<style scoped>\n",
       "    .dataframe tbody tr th:only-of-type {\n",
       "        vertical-align: middle;\n",
       "    }\n",
       "\n",
       "    .dataframe tbody tr th {\n",
       "        vertical-align: top;\n",
       "    }\n",
       "\n",
       "    .dataframe thead th {\n",
       "        text-align: right;\n",
       "    }\n",
       "</style>\n",
       "<table border=\"1\" class=\"dataframe\">\n",
       "  <thead>\n",
       "    <tr style=\"text-align: right;\">\n",
       "      <th></th>\n",
       "      <th>PatientId</th>\n",
       "      <th>AppointmentID</th>\n",
       "      <th>Age</th>\n",
       "      <th>Scholarship</th>\n",
       "      <th>Hipertension</th>\n",
       "      <th>Diabetes</th>\n",
       "      <th>Alcoholism</th>\n",
       "      <th>Handcap</th>\n",
       "      <th>SMS_received</th>\n",
       "    </tr>\n",
       "  </thead>\n",
       "  <tbody>\n",
       "    <tr>\n",
       "      <th>count</th>\n",
       "      <td>1.105270e+05</td>\n",
       "      <td>1.105270e+05</td>\n",
       "      <td>110527.000000</td>\n",
       "      <td>110527.000000</td>\n",
       "      <td>110527.000000</td>\n",
       "      <td>110527.000000</td>\n",
       "      <td>110527.000000</td>\n",
       "      <td>110527.000000</td>\n",
       "      <td>110527.000000</td>\n",
       "    </tr>\n",
       "    <tr>\n",
       "      <th>mean</th>\n",
       "      <td>1.474963e+14</td>\n",
       "      <td>5.675305e+06</td>\n",
       "      <td>37.088874</td>\n",
       "      <td>0.098266</td>\n",
       "      <td>0.197246</td>\n",
       "      <td>0.071865</td>\n",
       "      <td>0.030400</td>\n",
       "      <td>0.022248</td>\n",
       "      <td>0.321026</td>\n",
       "    </tr>\n",
       "    <tr>\n",
       "      <th>std</th>\n",
       "      <td>2.560949e+14</td>\n",
       "      <td>7.129575e+04</td>\n",
       "      <td>23.110205</td>\n",
       "      <td>0.297675</td>\n",
       "      <td>0.397921</td>\n",
       "      <td>0.258265</td>\n",
       "      <td>0.171686</td>\n",
       "      <td>0.161543</td>\n",
       "      <td>0.466873</td>\n",
       "    </tr>\n",
       "    <tr>\n",
       "      <th>min</th>\n",
       "      <td>3.921784e+04</td>\n",
       "      <td>5.030230e+06</td>\n",
       "      <td>-1.000000</td>\n",
       "      <td>0.000000</td>\n",
       "      <td>0.000000</td>\n",
       "      <td>0.000000</td>\n",
       "      <td>0.000000</td>\n",
       "      <td>0.000000</td>\n",
       "      <td>0.000000</td>\n",
       "    </tr>\n",
       "    <tr>\n",
       "      <th>25%</th>\n",
       "      <td>4.172614e+12</td>\n",
       "      <td>5.640286e+06</td>\n",
       "      <td>18.000000</td>\n",
       "      <td>0.000000</td>\n",
       "      <td>0.000000</td>\n",
       "      <td>0.000000</td>\n",
       "      <td>0.000000</td>\n",
       "      <td>0.000000</td>\n",
       "      <td>0.000000</td>\n",
       "    </tr>\n",
       "    <tr>\n",
       "      <th>50%</th>\n",
       "      <td>3.173184e+13</td>\n",
       "      <td>5.680573e+06</td>\n",
       "      <td>37.000000</td>\n",
       "      <td>0.000000</td>\n",
       "      <td>0.000000</td>\n",
       "      <td>0.000000</td>\n",
       "      <td>0.000000</td>\n",
       "      <td>0.000000</td>\n",
       "      <td>0.000000</td>\n",
       "    </tr>\n",
       "    <tr>\n",
       "      <th>75%</th>\n",
       "      <td>9.439172e+13</td>\n",
       "      <td>5.725524e+06</td>\n",
       "      <td>55.000000</td>\n",
       "      <td>0.000000</td>\n",
       "      <td>0.000000</td>\n",
       "      <td>0.000000</td>\n",
       "      <td>0.000000</td>\n",
       "      <td>0.000000</td>\n",
       "      <td>1.000000</td>\n",
       "    </tr>\n",
       "    <tr>\n",
       "      <th>max</th>\n",
       "      <td>9.999816e+14</td>\n",
       "      <td>5.790484e+06</td>\n",
       "      <td>115.000000</td>\n",
       "      <td>1.000000</td>\n",
       "      <td>1.000000</td>\n",
       "      <td>1.000000</td>\n",
       "      <td>1.000000</td>\n",
       "      <td>4.000000</td>\n",
       "      <td>1.000000</td>\n",
       "    </tr>\n",
       "  </tbody>\n",
       "</table>\n",
       "</div>"
      ],
      "text/plain": [
       "          PatientId  AppointmentID            Age    Scholarship  \\\n",
       "count  1.105270e+05   1.105270e+05  110527.000000  110527.000000   \n",
       "mean   1.474963e+14   5.675305e+06      37.088874       0.098266   \n",
       "std    2.560949e+14   7.129575e+04      23.110205       0.297675   \n",
       "min    3.921784e+04   5.030230e+06      -1.000000       0.000000   \n",
       "25%    4.172614e+12   5.640286e+06      18.000000       0.000000   \n",
       "50%    3.173184e+13   5.680573e+06      37.000000       0.000000   \n",
       "75%    9.439172e+13   5.725524e+06      55.000000       0.000000   \n",
       "max    9.999816e+14   5.790484e+06     115.000000       1.000000   \n",
       "\n",
       "        Hipertension       Diabetes     Alcoholism        Handcap  \\\n",
       "count  110527.000000  110527.000000  110527.000000  110527.000000   \n",
       "mean        0.197246       0.071865       0.030400       0.022248   \n",
       "std         0.397921       0.258265       0.171686       0.161543   \n",
       "min         0.000000       0.000000       0.000000       0.000000   \n",
       "25%         0.000000       0.000000       0.000000       0.000000   \n",
       "50%         0.000000       0.000000       0.000000       0.000000   \n",
       "75%         0.000000       0.000000       0.000000       0.000000   \n",
       "max         1.000000       1.000000       1.000000       4.000000   \n",
       "\n",
       "        SMS_received  \n",
       "count  110527.000000  \n",
       "mean        0.321026  \n",
       "std         0.466873  \n",
       "min         0.000000  \n",
       "25%         0.000000  \n",
       "50%         0.000000  \n",
       "75%         1.000000  \n",
       "max         1.000000  "
      ]
     },
     "execution_count": 5,
     "metadata": {},
     "output_type": "execute_result"
    }
   ],
   "source": [
    "# Use the describe function to get a summuary statistics of what the data \n",
    "df.describe()"
   ]
  },
  {
   "cell_type": "markdown",
   "metadata": {},
   "source": [
    "> This shows us a quick description of the data:\n",
    ">* Average age of the entire patient dataset is 37   \n",
    ">* The Old person in the dataset is 115 and the youngest is less than a year old (most likely a baby)\n",
    ">* Few patient had Hipertension, Diabetes or where Alcoholic or Handcap\n",
    ">* An Average of 0.32 persons recieved sms\n",
    ">\n",
    "> **Note:** \n",
    ">* The spelling of Hipertension, Handcap is wrong\n",
    ">* The Max age appears to be an outlier"
   ]
  },
  {
   "cell_type": "markdown",
   "metadata": {},
   "source": [
    "#### Check for errors, missing data and duplicates"
   ]
  },
  {
   "cell_type": "code",
   "execution_count": 6,
   "metadata": {},
   "outputs": [
    {
     "name": "stdout",
     "output_type": "stream",
     "text": [
      "<class 'pandas.core.frame.DataFrame'>\n",
      "RangeIndex: 110527 entries, 0 to 110526\n",
      "Data columns (total 14 columns):\n",
      " #   Column          Non-Null Count   Dtype  \n",
      "---  ------          --------------   -----  \n",
      " 0   PatientId       110527 non-null  float64\n",
      " 1   AppointmentID   110527 non-null  int64  \n",
      " 2   Gender          110527 non-null  object \n",
      " 3   ScheduledDay    110527 non-null  object \n",
      " 4   AppointmentDay  110527 non-null  object \n",
      " 5   Age             110527 non-null  int64  \n",
      " 6   Neighbourhood   110527 non-null  object \n",
      " 7   Scholarship     110527 non-null  int64  \n",
      " 8   Hipertension    110527 non-null  int64  \n",
      " 9   Diabetes        110527 non-null  int64  \n",
      " 10  Alcoholism      110527 non-null  int64  \n",
      " 11  Handcap         110527 non-null  int64  \n",
      " 12  SMS_received    110527 non-null  int64  \n",
      " 13  No-show         110527 non-null  object \n",
      "dtypes: float64(1), int64(8), object(5)\n",
      "memory usage: 11.8+ MB\n"
     ]
    }
   ],
   "source": [
    "# Use the info method to prints information and find the data types and column information\n",
    "df.info()"
   ]
  },
  {
   "cell_type": "markdown",
   "metadata": {},
   "source": [
    "> The ScheduledDay, AppointmentDay is a string, needs to be converted to DateTime data\\\n",
    "> The No-show is not following the conventional string formatting and it data type needs to be an integer"
   ]
  },
  {
   "cell_type": "code",
   "execution_count": 7,
   "metadata": {},
   "outputs": [
    {
     "data": {
      "text/plain": [
       "PatientId         0\n",
       "AppointmentID     0\n",
       "Gender            0\n",
       "ScheduledDay      0\n",
       "AppointmentDay    0\n",
       "Age               0\n",
       "Neighbourhood     0\n",
       "Scholarship       0\n",
       "Hipertension      0\n",
       "Diabetes          0\n",
       "Alcoholism        0\n",
       "Handcap           0\n",
       "SMS_received      0\n",
       "No-show           0\n",
       "dtype: int64"
      ]
     },
     "execution_count": 7,
     "metadata": {},
     "output_type": "execute_result"
    }
   ],
   "source": [
    "# Using the isnull method which returns boolean\n",
    "#True (1) for the presence of null or NaN values \n",
    "# and False (0) the absence of null or NaN values\n",
    "\n",
    "df.isnull().sum()"
   ]
  },
  {
   "cell_type": "markdown",
   "metadata": {},
   "source": [
    "> No empty dataset\\\n",
    "> The Column names are not following the conventional lower case spell and the use of underscore to clearly spelt out the names"
   ]
  },
  {
   "cell_type": "code",
   "execution_count": 8,
   "metadata": {},
   "outputs": [
    {
     "data": {
      "text/plain": [
       "0"
      ]
     },
     "execution_count": 8,
     "metadata": {},
     "output_type": "execute_result"
    }
   ],
   "source": [
    "# Using the duplicated method which returns a boolean\n",
    "#True (1) for the presence of duplicate \n",
    "# and False (0) the absence of duplicates\n",
    "\n",
    "df.duplicated().sum(0)"
   ]
  },
  {
   "cell_type": "markdown",
   "metadata": {},
   "source": [
    "> No duplicates"
   ]
  },
  {
   "cell_type": "code",
   "execution_count": 9,
   "metadata": {},
   "outputs": [
    {
     "data": {
      "text/plain": [
       "PatientId          62299\n",
       "AppointmentID     110527\n",
       "Gender                 2\n",
       "ScheduledDay      103549\n",
       "AppointmentDay        27\n",
       "Age                  104\n",
       "Neighbourhood         81\n",
       "Scholarship            2\n",
       "Hipertension           2\n",
       "Diabetes               2\n",
       "Alcoholism             2\n",
       "Handcap                5\n",
       "SMS_received           2\n",
       "No-show                2\n",
       "dtype: int64"
      ]
     },
     "execution_count": 9,
     "metadata": {},
     "output_type": "execute_result"
    }
   ],
   "source": [
    "# Using the nunique to see how many unique each column.\n",
    "\n",
    "df.nunique()"
   ]
  },
  {
   "cell_type": "markdown",
   "metadata": {},
   "source": [
    "> It is strange that Handcap has 5 unqiue values"
   ]
  },
  {
   "cell_type": "code",
   "execution_count": 10,
   "metadata": {},
   "outputs": [
    {
     "data": {
      "text/html": [
       "<div>\n",
       "<style scoped>\n",
       "    .dataframe tbody tr th:only-of-type {\n",
       "        vertical-align: middle;\n",
       "    }\n",
       "\n",
       "    .dataframe tbody tr th {\n",
       "        vertical-align: top;\n",
       "    }\n",
       "\n",
       "    .dataframe thead th {\n",
       "        text-align: right;\n",
       "    }\n",
       "</style>\n",
       "<table border=\"1\" class=\"dataframe\">\n",
       "  <thead>\n",
       "    <tr style=\"text-align: right;\">\n",
       "      <th></th>\n",
       "      <th>PatientId</th>\n",
       "      <th>AppointmentID</th>\n",
       "      <th>Age</th>\n",
       "      <th>Scholarship</th>\n",
       "      <th>Hipertension</th>\n",
       "      <th>Diabetes</th>\n",
       "      <th>Alcoholism</th>\n",
       "      <th>SMS_received</th>\n",
       "    </tr>\n",
       "    <tr>\n",
       "      <th>Handcap</th>\n",
       "      <th></th>\n",
       "      <th></th>\n",
       "      <th></th>\n",
       "      <th></th>\n",
       "      <th></th>\n",
       "      <th></th>\n",
       "      <th></th>\n",
       "      <th></th>\n",
       "    </tr>\n",
       "  </thead>\n",
       "  <tbody>\n",
       "    <tr>\n",
       "      <th>0</th>\n",
       "      <td>1.478153e+14</td>\n",
       "      <td>5.675150e+06</td>\n",
       "      <td>36.810465</td>\n",
       "      <td>0.098655</td>\n",
       "      <td>0.192389</td>\n",
       "      <td>0.069667</td>\n",
       "      <td>0.030309</td>\n",
       "      <td>0.322719</td>\n",
       "    </tr>\n",
       "    <tr>\n",
       "      <th>1</th>\n",
       "      <td>1.322588e+14</td>\n",
       "      <td>5.683177e+06</td>\n",
       "      <td>50.855044</td>\n",
       "      <td>0.078355</td>\n",
       "      <td>0.432419</td>\n",
       "      <td>0.174339</td>\n",
       "      <td>0.034280</td>\n",
       "      <td>0.239471</td>\n",
       "    </tr>\n",
       "    <tr>\n",
       "      <th>2</th>\n",
       "      <td>1.235427e+14</td>\n",
       "      <td>5.678123e+06</td>\n",
       "      <td>47.775956</td>\n",
       "      <td>0.098361</td>\n",
       "      <td>0.459016</td>\n",
       "      <td>0.234973</td>\n",
       "      <td>0.027322</td>\n",
       "      <td>0.234973</td>\n",
       "    </tr>\n",
       "    <tr>\n",
       "      <th>3</th>\n",
       "      <td>1.576761e+14</td>\n",
       "      <td>5.674417e+06</td>\n",
       "      <td>48.615385</td>\n",
       "      <td>0.000000</td>\n",
       "      <td>0.076923</td>\n",
       "      <td>0.000000</td>\n",
       "      <td>0.230769</td>\n",
       "      <td>0.230769</td>\n",
       "    </tr>\n",
       "    <tr>\n",
       "      <th>4</th>\n",
       "      <td>4.215626e+14</td>\n",
       "      <td>5.749102e+06</td>\n",
       "      <td>14.333333</td>\n",
       "      <td>0.000000</td>\n",
       "      <td>0.000000</td>\n",
       "      <td>0.000000</td>\n",
       "      <td>0.000000</td>\n",
       "      <td>0.333333</td>\n",
       "    </tr>\n",
       "  </tbody>\n",
       "</table>\n",
       "</div>"
      ],
      "text/plain": [
       "            PatientId  AppointmentID        Age  Scholarship  Hipertension  \\\n",
       "Handcap                                                                      \n",
       "0        1.478153e+14   5.675150e+06  36.810465     0.098655      0.192389   \n",
       "1        1.322588e+14   5.683177e+06  50.855044     0.078355      0.432419   \n",
       "2        1.235427e+14   5.678123e+06  47.775956     0.098361      0.459016   \n",
       "3        1.576761e+14   5.674417e+06  48.615385     0.000000      0.076923   \n",
       "4        4.215626e+14   5.749102e+06  14.333333     0.000000      0.000000   \n",
       "\n",
       "         Diabetes  Alcoholism  SMS_received  \n",
       "Handcap                                      \n",
       "0        0.069667    0.030309      0.322719  \n",
       "1        0.174339    0.034280      0.239471  \n",
       "2        0.234973    0.027322      0.234973  \n",
       "3        0.000000    0.230769      0.230769  \n",
       "4        0.000000    0.000000      0.333333  "
      ]
     },
     "execution_count": 10,
     "metadata": {},
     "output_type": "execute_result"
    }
   ],
   "source": [
    "# Would like to group the data by handcap and see how it is distrubed among mean age\n",
    "\n",
    "df_hand = df.groupby('Handcap').mean('Age')\n",
    "df_hand.head()"
   ]
  },
  {
   "cell_type": "markdown",
   "metadata": {},
   "source": [
    "> The Handcap data is incorrect would have to drop the column or change every value greater than 1 to 1 for uniformity, since one can only be disable or not."
   ]
  },
  {
   "cell_type": "markdown",
   "metadata": {},
   "source": [
    "### Data Cleaning "
   ]
  },
  {
   "cell_type": "code",
   "execution_count": 11,
   "metadata": {},
   "outputs": [],
   "source": [
    "# First I would like to rename the column names and formate the name properly while correcting typogrphic errors\n",
    "# Note: In the no_show column 'No' means that the client came for the appointment \n",
    "        # and 'Yes' means that the client did not show up for the appointment\n",
    "    \n",
    "# I will change the name of no_show to show and \n",
    "# then further more in the cleaning change every 'no' to '1' and every 'yes' to '0' for easy comprehension\n",
    "\n",
    "df = df.rename(columns= {'PatientId': 'Patient_Id', 'AppointmentDay':'Appointment_Day','ScheduledDay':'Scheduled_Day', \n",
    "                       'Hipertension':'Hypertension', 'No-show':'Show', 'Handcap' : 'Handicap'})"
   ]
  },
  {
   "cell_type": "code",
   "execution_count": 12,
   "metadata": {},
   "outputs": [],
   "source": [
    "# I will iterate through the rows in the Show column and change every no to '1' and yes to '0'\n",
    "\n",
    "for i, value in df.iterrows():\n",
    "    if value['Show'] == 'No':\n",
    "        df.loc[i,'Show'] = 1\n",
    "    else:\n",
    "        df.loc[i,'Show'] = 0"
   ]
  },
  {
   "cell_type": "code",
   "execution_count": 13,
   "metadata": {},
   "outputs": [
    {
     "name": "stdout",
     "output_type": "stream",
     "text": [
      "<class 'pandas.core.frame.DataFrame'>\n",
      "RangeIndex: 110527 entries, 0 to 110526\n",
      "Data columns (total 14 columns):\n",
      " #   Column           Non-Null Count   Dtype  \n",
      "---  ------           --------------   -----  \n",
      " 0   Patient_Id       110527 non-null  float64\n",
      " 1   AppointmentID    110527 non-null  int64  \n",
      " 2   Gender           110527 non-null  object \n",
      " 3   Scheduled_Day    110527 non-null  object \n",
      " 4   Appointment_Day  110527 non-null  object \n",
      " 5   Age              110527 non-null  int64  \n",
      " 6   Neighbourhood    110527 non-null  object \n",
      " 7   Scholarship      110527 non-null  int64  \n",
      " 8   Hypertension     110527 non-null  int64  \n",
      " 9   Diabetes         110527 non-null  int64  \n",
      " 10  Alcoholism       110527 non-null  int64  \n",
      " 11  Handicap         110527 non-null  int64  \n",
      " 12  SMS_received     110527 non-null  int64  \n",
      " 13  Show             110527 non-null  object \n",
      "dtypes: float64(1), int64(8), object(5)\n",
      "memory usage: 11.8+ MB\n"
     ]
    }
   ],
   "source": [
    "# let's look at the outcome\n",
    "df.info()"
   ]
  },
  {
   "cell_type": "code",
   "execution_count": 14,
   "metadata": {},
   "outputs": [],
   "source": [
    "# We observe that Show is a string, there is need to convert it to int\n",
    "\n",
    "df['Show'] =df['Show'].astype(int)"
   ]
  },
  {
   "cell_type": "code",
   "execution_count": 15,
   "metadata": {},
   "outputs": [],
   "source": [
    "# Drop columns that are irrelvant to the analysis or \n",
    "# with inconsistent input like AppointmentID and PatientId \n",
    "\n",
    "df.drop('AppointmentID', axis=1, inplace=True)"
   ]
  },
  {
   "cell_type": "code",
   "execution_count": 16,
   "metadata": {},
   "outputs": [],
   "source": [
    "# using the lambda function to make lower case the names of the column, enhancing reablity\n",
    "\n",
    "df.rename(columns = lambda x: x.strip().lower(), inplace=True)"
   ]
  },
  {
   "cell_type": "code",
   "execution_count": 17,
   "metadata": {},
   "outputs": [
    {
     "data": {
      "text/html": [
       "<div>\n",
       "<style scoped>\n",
       "    .dataframe tbody tr th:only-of-type {\n",
       "        vertical-align: middle;\n",
       "    }\n",
       "\n",
       "    .dataframe tbody tr th {\n",
       "        vertical-align: top;\n",
       "    }\n",
       "\n",
       "    .dataframe thead th {\n",
       "        text-align: right;\n",
       "    }\n",
       "</style>\n",
       "<table border=\"1\" class=\"dataframe\">\n",
       "  <thead>\n",
       "    <tr style=\"text-align: right;\">\n",
       "      <th></th>\n",
       "      <th>patient_id</th>\n",
       "      <th>gender</th>\n",
       "      <th>scheduled_day</th>\n",
       "      <th>appointment_day</th>\n",
       "      <th>age</th>\n",
       "      <th>neighbourhood</th>\n",
       "      <th>scholarship</th>\n",
       "      <th>hypertension</th>\n",
       "      <th>diabetes</th>\n",
       "      <th>alcoholism</th>\n",
       "      <th>handicap</th>\n",
       "      <th>sms_received</th>\n",
       "      <th>show</th>\n",
       "    </tr>\n",
       "  </thead>\n",
       "  <tbody>\n",
       "    <tr>\n",
       "      <th>0</th>\n",
       "      <td>2.987250e+13</td>\n",
       "      <td>F</td>\n",
       "      <td>2016-04-29T18:38:08Z</td>\n",
       "      <td>2016-04-29T00:00:00Z</td>\n",
       "      <td>62</td>\n",
       "      <td>JARDIM DA PENHA</td>\n",
       "      <td>0</td>\n",
       "      <td>1</td>\n",
       "      <td>0</td>\n",
       "      <td>0</td>\n",
       "      <td>0</td>\n",
       "      <td>0</td>\n",
       "      <td>1</td>\n",
       "    </tr>\n",
       "    <tr>\n",
       "      <th>1</th>\n",
       "      <td>5.589978e+14</td>\n",
       "      <td>M</td>\n",
       "      <td>2016-04-29T16:08:27Z</td>\n",
       "      <td>2016-04-29T00:00:00Z</td>\n",
       "      <td>56</td>\n",
       "      <td>JARDIM DA PENHA</td>\n",
       "      <td>0</td>\n",
       "      <td>0</td>\n",
       "      <td>0</td>\n",
       "      <td>0</td>\n",
       "      <td>0</td>\n",
       "      <td>0</td>\n",
       "      <td>1</td>\n",
       "    </tr>\n",
       "    <tr>\n",
       "      <th>2</th>\n",
       "      <td>4.262962e+12</td>\n",
       "      <td>F</td>\n",
       "      <td>2016-04-29T16:19:04Z</td>\n",
       "      <td>2016-04-29T00:00:00Z</td>\n",
       "      <td>62</td>\n",
       "      <td>MATA DA PRAIA</td>\n",
       "      <td>0</td>\n",
       "      <td>0</td>\n",
       "      <td>0</td>\n",
       "      <td>0</td>\n",
       "      <td>0</td>\n",
       "      <td>0</td>\n",
       "      <td>1</td>\n",
       "    </tr>\n",
       "    <tr>\n",
       "      <th>3</th>\n",
       "      <td>8.679512e+11</td>\n",
       "      <td>F</td>\n",
       "      <td>2016-04-29T17:29:31Z</td>\n",
       "      <td>2016-04-29T00:00:00Z</td>\n",
       "      <td>8</td>\n",
       "      <td>PONTAL DE CAMBURI</td>\n",
       "      <td>0</td>\n",
       "      <td>0</td>\n",
       "      <td>0</td>\n",
       "      <td>0</td>\n",
       "      <td>0</td>\n",
       "      <td>0</td>\n",
       "      <td>1</td>\n",
       "    </tr>\n",
       "    <tr>\n",
       "      <th>4</th>\n",
       "      <td>8.841186e+12</td>\n",
       "      <td>F</td>\n",
       "      <td>2016-04-29T16:07:23Z</td>\n",
       "      <td>2016-04-29T00:00:00Z</td>\n",
       "      <td>56</td>\n",
       "      <td>JARDIM DA PENHA</td>\n",
       "      <td>0</td>\n",
       "      <td>1</td>\n",
       "      <td>1</td>\n",
       "      <td>0</td>\n",
       "      <td>0</td>\n",
       "      <td>0</td>\n",
       "      <td>1</td>\n",
       "    </tr>\n",
       "  </tbody>\n",
       "</table>\n",
       "</div>"
      ],
      "text/plain": [
       "     patient_id gender         scheduled_day       appointment_day  age  \\\n",
       "0  2.987250e+13      F  2016-04-29T18:38:08Z  2016-04-29T00:00:00Z   62   \n",
       "1  5.589978e+14      M  2016-04-29T16:08:27Z  2016-04-29T00:00:00Z   56   \n",
       "2  4.262962e+12      F  2016-04-29T16:19:04Z  2016-04-29T00:00:00Z   62   \n",
       "3  8.679512e+11      F  2016-04-29T17:29:31Z  2016-04-29T00:00:00Z    8   \n",
       "4  8.841186e+12      F  2016-04-29T16:07:23Z  2016-04-29T00:00:00Z   56   \n",
       "\n",
       "       neighbourhood  scholarship  hypertension  diabetes  alcoholism  \\\n",
       "0    JARDIM DA PENHA            0             1         0           0   \n",
       "1    JARDIM DA PENHA            0             0         0           0   \n",
       "2      MATA DA PRAIA            0             0         0           0   \n",
       "3  PONTAL DE CAMBURI            0             0         0           0   \n",
       "4    JARDIM DA PENHA            0             1         1           0   \n",
       "\n",
       "   handicap  sms_received  show  \n",
       "0         0             0     1  \n",
       "1         0             0     1  \n",
       "2         0             0     1  \n",
       "3         0             0     1  \n",
       "4         0             0     1  "
      ]
     },
     "execution_count": 17,
     "metadata": {},
     "output_type": "execute_result"
    }
   ],
   "source": [
    "# Let's take a look at the changes in dataset\n",
    "df.head()"
   ]
  },
  {
   "cell_type": "code",
   "execution_count": 18,
   "metadata": {},
   "outputs": [],
   "source": [
    "# Here I would be changing the scheduled_day and appointment_day datatype from string to DateTime\n",
    "df['scheduled_day'] = pd.to_datetime(df['scheduled_day'])\n",
    "df['appointment_day'] = pd.to_datetime(df['appointment_day'])"
   ]
  },
  {
   "cell_type": "code",
   "execution_count": 19,
   "metadata": {},
   "outputs": [
    {
     "name": "stdout",
     "output_type": "stream",
     "text": [
      "<class 'pandas.core.frame.DataFrame'>\n",
      "RangeIndex: 110527 entries, 0 to 110526\n",
      "Data columns (total 13 columns):\n",
      " #   Column           Non-Null Count   Dtype              \n",
      "---  ------           --------------   -----              \n",
      " 0   patient_id       110527 non-null  float64            \n",
      " 1   gender           110527 non-null  object             \n",
      " 2   scheduled_day    110527 non-null  datetime64[ns, UTC]\n",
      " 3   appointment_day  110527 non-null  datetime64[ns, UTC]\n",
      " 4   age              110527 non-null  int64              \n",
      " 5   neighbourhood    110527 non-null  object             \n",
      " 6   scholarship      110527 non-null  int64              \n",
      " 7   hypertension     110527 non-null  int64              \n",
      " 8   diabetes         110527 non-null  int64              \n",
      " 9   alcoholism       110527 non-null  int64              \n",
      " 10  handicap         110527 non-null  int64              \n",
      " 11  sms_received     110527 non-null  int64              \n",
      " 12  show             110527 non-null  int32              \n",
      "dtypes: datetime64[ns, UTC](2), float64(1), int32(1), int64(7), object(2)\n",
      "memory usage: 10.5+ MB\n"
     ]
    }
   ],
   "source": [
    "# Let's see the changes to the datatype\n",
    "df.info()"
   ]
  },
  {
   "cell_type": "markdown",
   "metadata": {},
   "source": [
    "> Nice the scheduled_day and appointment_day are now in the right format"
   ]
  },
  {
   "cell_type": "markdown",
   "metadata": {},
   "source": [
    "#### Cleaning conclusion"
   ]
  },
  {
   "cell_type": "markdown",
   "metadata": {},
   "source": [
    ">The data is  pretty tidy and ready for exploration and analysis. There were no missing or duplicate values. All ambiguity have been resloved especially with if the patient came for the appointment or not, where '1' means the patient came for the appointment and '0' making it more uniform with other columns in the dataset, I changed the column names to lower case and corrected the spacing. I also modified the data types of several of the columns to improve readability and analysis."
   ]
  },
  {
   "cell_type": "markdown",
   "metadata": {},
   "source": [
    "<a id='eda'></a>\n",
    "## Exploratory Data Analysis\n"
   ]
  },
  {
   "cell_type": "code",
   "execution_count": 20,
   "metadata": {},
   "outputs": [
    {
     "data": {
      "text/html": [
       "<style type=\"text/css\">\n",
       "#T_68567_row0_col0, #T_68567_row1_col1, #T_68567_row2_col2, #T_68567_row3_col3, #T_68567_row4_col4, #T_68567_row5_col5, #T_68567_row6_col6, #T_68567_row7_col7, #T_68567_row8_col8 {\n",
       "  background-color: #08306b;\n",
       "  color: #f1f1f1;\n",
       "}\n",
       "#T_68567_row0_col1, #T_68567_row0_col2, #T_68567_row4_col6, #T_68567_row6_col4 {\n",
       "  background-color: #e7f1fa;\n",
       "  color: #000000;\n",
       "}\n",
       "#T_68567_row0_col3, #T_68567_row2_col6, #T_68567_row7_col3 {\n",
       "  background-color: #f5f9fe;\n",
       "  color: #000000;\n",
       "}\n",
       "#T_68567_row0_col4, #T_68567_row8_col5 {\n",
       "  background-color: #f2f8fd;\n",
       "  color: #000000;\n",
       "}\n",
       "#T_68567_row0_col5 {\n",
       "  background-color: #f0f6fd;\n",
       "  color: #000000;\n",
       "}\n",
       "#T_68567_row0_col6 {\n",
       "  background-color: #f4f9fe;\n",
       "  color: #000000;\n",
       "}\n",
       "#T_68567_row0_col7, #T_68567_row3_col6 {\n",
       "  background-color: #e3eef8;\n",
       "  color: #000000;\n",
       "}\n",
       "#T_68567_row0_col8, #T_68567_row2_col7, #T_68567_row5_col2 {\n",
       "  background-color: #e0ecf8;\n",
       "  color: #000000;\n",
       "}\n",
       "#T_68567_row1_col0, #T_68567_row2_col0 {\n",
       "  background-color: #f6faff;\n",
       "  color: #000000;\n",
       "}\n",
       "#T_68567_row1_col2, #T_68567_row2_col1, #T_68567_row2_col3, #T_68567_row2_col4, #T_68567_row3_col0, #T_68567_row6_col0, #T_68567_row7_col0, #T_68567_row7_col5, #T_68567_row7_col6, #T_68567_row7_col8, #T_68567_row8_col7 {\n",
       "  background-color: #f7fbff;\n",
       "  color: #000000;\n",
       "}\n",
       "#T_68567_row1_col3 {\n",
       "  background-color: #66abd4;\n",
       "  color: #f1f1f1;\n",
       "}\n",
       "#T_68567_row1_col4 {\n",
       "  background-color: #b3d3e8;\n",
       "  color: #000000;\n",
       "}\n",
       "#T_68567_row1_col5, #T_68567_row6_col8 {\n",
       "  background-color: #dfecf7;\n",
       "  color: #000000;\n",
       "}\n",
       "#T_68567_row1_col6, #T_68567_row4_col7, #T_68567_row6_col3 {\n",
       "  background-color: #e3eef9;\n",
       "  color: #000000;\n",
       "}\n",
       "#T_68567_row1_col7 {\n",
       "  background-color: #dfebf7;\n",
       "  color: #000000;\n",
       "}\n",
       "#T_68567_row1_col8 {\n",
       "  background-color: #d6e6f4;\n",
       "  color: #000000;\n",
       "}\n",
       "#T_68567_row2_col5, #T_68567_row4_col2 {\n",
       "  background-color: #ebf3fb;\n",
       "  color: #000000;\n",
       "}\n",
       "#T_68567_row2_col8, #T_68567_row5_col7 {\n",
       "  background-color: #e6f0f9;\n",
       "  color: #000000;\n",
       "}\n",
       "#T_68567_row3_col1 {\n",
       "  background-color: #5ca4d0;\n",
       "  color: #f1f1f1;\n",
       "}\n",
       "#T_68567_row3_col2 {\n",
       "  background-color: #eaf2fb;\n",
       "  color: #000000;\n",
       "}\n",
       "#T_68567_row3_col4 {\n",
       "  background-color: #81badb;\n",
       "  color: #000000;\n",
       "}\n",
       "#T_68567_row3_col5, #T_68567_row5_col8 {\n",
       "  background-color: #e1edf8;\n",
       "  color: #000000;\n",
       "}\n",
       "#T_68567_row3_col7, #T_68567_row5_col3 {\n",
       "  background-color: #e2edf8;\n",
       "  color: #000000;\n",
       "}\n",
       "#T_68567_row3_col8 {\n",
       "  background-color: #dbe9f6;\n",
       "  color: #000000;\n",
       "}\n",
       "#T_68567_row4_col0, #T_68567_row7_col4, #T_68567_row8_col0 {\n",
       "  background-color: #f5fafe;\n",
       "  color: #000000;\n",
       "}\n",
       "#T_68567_row4_col1 {\n",
       "  background-color: #a5cde3;\n",
       "  color: #000000;\n",
       "}\n",
       "#T_68567_row4_col3 {\n",
       "  background-color: #82bbdb;\n",
       "  color: #000000;\n",
       "}\n",
       "#T_68567_row4_col5 {\n",
       "  background-color: #eef5fc;\n",
       "  color: #000000;\n",
       "}\n",
       "#T_68567_row4_col8 {\n",
       "  background-color: #deebf7;\n",
       "  color: #000000;\n",
       "}\n",
       "#T_68567_row5_col0 {\n",
       "  background-color: #f3f8fe;\n",
       "  color: #000000;\n",
       "}\n",
       "#T_68567_row5_col1 {\n",
       "  background-color: #d5e5f4;\n",
       "  color: #000000;\n",
       "}\n",
       "#T_68567_row5_col4, #T_68567_row8_col4 {\n",
       "  background-color: #eff6fc;\n",
       "  color: #000000;\n",
       "}\n",
       "#T_68567_row5_col6, #T_68567_row6_col5, #T_68567_row8_col6 {\n",
       "  background-color: #f2f7fd;\n",
       "  color: #000000;\n",
       "}\n",
       "#T_68567_row6_col1 {\n",
       "  background-color: #d9e7f5;\n",
       "  color: #000000;\n",
       "}\n",
       "#T_68567_row6_col2 {\n",
       "  background-color: #e8f1fa;\n",
       "  color: #000000;\n",
       "}\n",
       "#T_68567_row6_col7 {\n",
       "  background-color: #e5eff9;\n",
       "  color: #000000;\n",
       "}\n",
       "#T_68567_row7_col1 {\n",
       "  background-color: #e4eff9;\n",
       "  color: #000000;\n",
       "}\n",
       "#T_68567_row7_col2 {\n",
       "  background-color: #e7f0fa;\n",
       "  color: #000000;\n",
       "}\n",
       "#T_68567_row8_col1 {\n",
       "  background-color: #dce9f6;\n",
       "  color: #000000;\n",
       "}\n",
       "#T_68567_row8_col2 {\n",
       "  background-color: #ecf4fb;\n",
       "  color: #000000;\n",
       "}\n",
       "#T_68567_row8_col3 {\n",
       "  background-color: #edf4fc;\n",
       "  color: #000000;\n",
       "}\n",
       "</style>\n",
       "<table id=\"T_68567\">\n",
       "  <thead>\n",
       "    <tr>\n",
       "      <th class=\"blank level0\" >&nbsp;</th>\n",
       "      <th id=\"T_68567_level0_col0\" class=\"col_heading level0 col0\" >patient_id</th>\n",
       "      <th id=\"T_68567_level0_col1\" class=\"col_heading level0 col1\" >age</th>\n",
       "      <th id=\"T_68567_level0_col2\" class=\"col_heading level0 col2\" >scholarship</th>\n",
       "      <th id=\"T_68567_level0_col3\" class=\"col_heading level0 col3\" >hypertension</th>\n",
       "      <th id=\"T_68567_level0_col4\" class=\"col_heading level0 col4\" >diabetes</th>\n",
       "      <th id=\"T_68567_level0_col5\" class=\"col_heading level0 col5\" >alcoholism</th>\n",
       "      <th id=\"T_68567_level0_col6\" class=\"col_heading level0 col6\" >handicap</th>\n",
       "      <th id=\"T_68567_level0_col7\" class=\"col_heading level0 col7\" >sms_received</th>\n",
       "      <th id=\"T_68567_level0_col8\" class=\"col_heading level0 col8\" >show</th>\n",
       "    </tr>\n",
       "  </thead>\n",
       "  <tbody>\n",
       "    <tr>\n",
       "      <th id=\"T_68567_level0_row0\" class=\"row_heading level0 row0\" >patient_id</th>\n",
       "      <td id=\"T_68567_row0_col0\" class=\"data row0 col0\" >1.000000</td>\n",
       "      <td id=\"T_68567_row0_col1\" class=\"data row0 col1\" >-0.004139</td>\n",
       "      <td id=\"T_68567_row0_col2\" class=\"data row0 col2\" >-0.002880</td>\n",
       "      <td id=\"T_68567_row0_col3\" class=\"data row0 col3\" >-0.006441</td>\n",
       "      <td id=\"T_68567_row0_col4\" class=\"data row0 col4\" >0.001605</td>\n",
       "      <td id=\"T_68567_row0_col5\" class=\"data row0 col5\" >0.011011</td>\n",
       "      <td id=\"T_68567_row0_col6\" class=\"data row0 col6\" >-0.007916</td>\n",
       "      <td id=\"T_68567_row0_col7\" class=\"data row0 col7\" >-0.009749</td>\n",
       "      <td id=\"T_68567_row0_col8\" class=\"data row0 col8\" >0.001461</td>\n",
       "    </tr>\n",
       "    <tr>\n",
       "      <th id=\"T_68567_level0_row1\" class=\"row_heading level0 row1\" >age</th>\n",
       "      <td id=\"T_68567_row1_col0\" class=\"data row1 col0\" >-0.004139</td>\n",
       "      <td id=\"T_68567_row1_col1\" class=\"data row1 col1\" >1.000000</td>\n",
       "      <td id=\"T_68567_row1_col2\" class=\"data row1 col2\" >-0.092457</td>\n",
       "      <td id=\"T_68567_row1_col3\" class=\"data row1 col3\" >0.504586</td>\n",
       "      <td id=\"T_68567_row1_col4\" class=\"data row1 col4\" >0.292391</td>\n",
       "      <td id=\"T_68567_row1_col5\" class=\"data row1 col5\" >0.095811</td>\n",
       "      <td id=\"T_68567_row1_col6\" class=\"data row1 col6\" >0.078033</td>\n",
       "      <td id=\"T_68567_row1_col7\" class=\"data row1 col7\" >0.012643</td>\n",
       "      <td id=\"T_68567_row1_col8\" class=\"data row1 col8\" >0.060319</td>\n",
       "    </tr>\n",
       "    <tr>\n",
       "      <th id=\"T_68567_level0_row2\" class=\"row_heading level0 row2\" >scholarship</th>\n",
       "      <td id=\"T_68567_row2_col0\" class=\"data row2 col0\" >-0.002880</td>\n",
       "      <td id=\"T_68567_row2_col1\" class=\"data row2 col1\" >-0.092457</td>\n",
       "      <td id=\"T_68567_row2_col2\" class=\"data row2 col2\" >1.000000</td>\n",
       "      <td id=\"T_68567_row2_col3\" class=\"data row2 col3\" >-0.019729</td>\n",
       "      <td id=\"T_68567_row2_col4\" class=\"data row2 col4\" >-0.024894</td>\n",
       "      <td id=\"T_68567_row2_col5\" class=\"data row2 col5\" >0.035022</td>\n",
       "      <td id=\"T_68567_row2_col6\" class=\"data row2 col6\" >-0.008586</td>\n",
       "      <td id=\"T_68567_row2_col7\" class=\"data row2 col7\" >0.001194</td>\n",
       "      <td id=\"T_68567_row2_col8\" class=\"data row2 col8\" >-0.029135</td>\n",
       "    </tr>\n",
       "    <tr>\n",
       "      <th id=\"T_68567_level0_row3\" class=\"row_heading level0 row3\" >hypertension</th>\n",
       "      <td id=\"T_68567_row3_col0\" class=\"data row3 col0\" >-0.006441</td>\n",
       "      <td id=\"T_68567_row3_col1\" class=\"data row3 col1\" >0.504586</td>\n",
       "      <td id=\"T_68567_row3_col2\" class=\"data row3 col2\" >-0.019729</td>\n",
       "      <td id=\"T_68567_row3_col3\" class=\"data row3 col3\" >1.000000</td>\n",
       "      <td id=\"T_68567_row3_col4\" class=\"data row3 col4\" >0.433086</td>\n",
       "      <td id=\"T_68567_row3_col5\" class=\"data row3 col5\" >0.087971</td>\n",
       "      <td id=\"T_68567_row3_col6\" class=\"data row3 col6\" >0.080083</td>\n",
       "      <td id=\"T_68567_row3_col7\" class=\"data row3 col7\" >-0.006267</td>\n",
       "      <td id=\"T_68567_row3_col8\" class=\"data row3 col8\" >0.035701</td>\n",
       "    </tr>\n",
       "    <tr>\n",
       "      <th id=\"T_68567_level0_row4\" class=\"row_heading level0 row4\" >diabetes</th>\n",
       "      <td id=\"T_68567_row4_col0\" class=\"data row4 col0\" >0.001605</td>\n",
       "      <td id=\"T_68567_row4_col1\" class=\"data row4 col1\" >0.292391</td>\n",
       "      <td id=\"T_68567_row4_col2\" class=\"data row4 col2\" >-0.024894</td>\n",
       "      <td id=\"T_68567_row4_col3\" class=\"data row4 col3\" >0.433086</td>\n",
       "      <td id=\"T_68567_row4_col4\" class=\"data row4 col4\" >1.000000</td>\n",
       "      <td id=\"T_68567_row4_col5\" class=\"data row4 col5\" >0.018474</td>\n",
       "      <td id=\"T_68567_row4_col6\" class=\"data row4 col6\" >0.057530</td>\n",
       "      <td id=\"T_68567_row4_col7\" class=\"data row4 col7\" >-0.014550</td>\n",
       "      <td id=\"T_68567_row4_col8\" class=\"data row4 col8\" >0.015180</td>\n",
       "    </tr>\n",
       "    <tr>\n",
       "      <th id=\"T_68567_level0_row5\" class=\"row_heading level0 row5\" >alcoholism</th>\n",
       "      <td id=\"T_68567_row5_col0\" class=\"data row5 col0\" >0.011011</td>\n",
       "      <td id=\"T_68567_row5_col1\" class=\"data row5 col1\" >0.095811</td>\n",
       "      <td id=\"T_68567_row5_col2\" class=\"data row5 col2\" >0.035022</td>\n",
       "      <td id=\"T_68567_row5_col3\" class=\"data row5 col3\" >0.087971</td>\n",
       "      <td id=\"T_68567_row5_col4\" class=\"data row5 col4\" >0.018474</td>\n",
       "      <td id=\"T_68567_row5_col5\" class=\"data row5 col5\" >1.000000</td>\n",
       "      <td id=\"T_68567_row5_col6\" class=\"data row5 col6\" >0.004648</td>\n",
       "      <td id=\"T_68567_row5_col7\" class=\"data row5 col7\" >-0.026147</td>\n",
       "      <td id=\"T_68567_row5_col8\" class=\"data row5 col8\" >0.000196</td>\n",
       "    </tr>\n",
       "    <tr>\n",
       "      <th id=\"T_68567_level0_row6\" class=\"row_heading level0 row6\" >handicap</th>\n",
       "      <td id=\"T_68567_row6_col0\" class=\"data row6 col0\" >-0.007916</td>\n",
       "      <td id=\"T_68567_row6_col1\" class=\"data row6 col1\" >0.078033</td>\n",
       "      <td id=\"T_68567_row6_col2\" class=\"data row6 col2\" >-0.008586</td>\n",
       "      <td id=\"T_68567_row6_col3\" class=\"data row6 col3\" >0.080083</td>\n",
       "      <td id=\"T_68567_row6_col4\" class=\"data row6 col4\" >0.057530</td>\n",
       "      <td id=\"T_68567_row6_col5\" class=\"data row6 col5\" >0.004648</td>\n",
       "      <td id=\"T_68567_row6_col6\" class=\"data row6 col6\" >1.000000</td>\n",
       "      <td id=\"T_68567_row6_col7\" class=\"data row6 col7\" >-0.024161</td>\n",
       "      <td id=\"T_68567_row6_col8\" class=\"data row6 col8\" >0.006076</td>\n",
       "    </tr>\n",
       "    <tr>\n",
       "      <th id=\"T_68567_level0_row7\" class=\"row_heading level0 row7\" >sms_received</th>\n",
       "      <td id=\"T_68567_row7_col0\" class=\"data row7 col0\" >-0.009749</td>\n",
       "      <td id=\"T_68567_row7_col1\" class=\"data row7 col1\" >0.012643</td>\n",
       "      <td id=\"T_68567_row7_col2\" class=\"data row7 col2\" >0.001194</td>\n",
       "      <td id=\"T_68567_row7_col3\" class=\"data row7 col3\" >-0.006267</td>\n",
       "      <td id=\"T_68567_row7_col4\" class=\"data row7 col4\" >-0.014550</td>\n",
       "      <td id=\"T_68567_row7_col5\" class=\"data row7 col5\" >-0.026147</td>\n",
       "      <td id=\"T_68567_row7_col6\" class=\"data row7 col6\" >-0.024161</td>\n",
       "      <td id=\"T_68567_row7_col7\" class=\"data row7 col7\" >1.000000</td>\n",
       "      <td id=\"T_68567_row7_col8\" class=\"data row7 col8\" >-0.126431</td>\n",
       "    </tr>\n",
       "    <tr>\n",
       "      <th id=\"T_68567_level0_row8\" class=\"row_heading level0 row8\" >show</th>\n",
       "      <td id=\"T_68567_row8_col0\" class=\"data row8 col0\" >0.001461</td>\n",
       "      <td id=\"T_68567_row8_col1\" class=\"data row8 col1\" >0.060319</td>\n",
       "      <td id=\"T_68567_row8_col2\" class=\"data row8 col2\" >-0.029135</td>\n",
       "      <td id=\"T_68567_row8_col3\" class=\"data row8 col3\" >0.035701</td>\n",
       "      <td id=\"T_68567_row8_col4\" class=\"data row8 col4\" >0.015180</td>\n",
       "      <td id=\"T_68567_row8_col5\" class=\"data row8 col5\" >0.000196</td>\n",
       "      <td id=\"T_68567_row8_col6\" class=\"data row8 col6\" >0.006076</td>\n",
       "      <td id=\"T_68567_row8_col7\" class=\"data row8 col7\" >-0.126431</td>\n",
       "      <td id=\"T_68567_row8_col8\" class=\"data row8 col8\" >1.000000</td>\n",
       "    </tr>\n",
       "  </tbody>\n",
       "</table>\n"
      ],
      "text/plain": [
       "<pandas.io.formats.style.Styler at 0x1c0fa83fee0>"
      ]
     },
     "execution_count": 20,
     "metadata": {},
     "output_type": "execute_result"
    },
    {
     "data": {
      "image/png": "[encoded data removed]",
      "text/plain": [
       "<Figure size 1440x720 with 12 Axes>"
      ]
     },
     "metadata": {
      "needs_background": "light"
     },
     "output_type": "display_data"
    }
   ],
   "source": [
    "#Let's take a wholistic look at the data visually\n",
    "\n",
    "df.hist(figsize =(20,10));\n",
    "\n",
    "df.corr().style.background_gradient(cmap='Blues')\n",
    "\n",
    "# This would give an added advantage to see what data is what exploratory or have tendance to influence certain outcomes"
   ]
  },
  {
   "cell_type": "markdown",
   "metadata": {},
   "source": [
    "> From the correlation analysis above we can see that:\n",
    ">* There is a strong correlation between age and hypentension, age and diabetes, then age and other variables (which is a clear information from previous researches) \n",
    ">* We can also see an negative correlation sms_recieved and show\n",
    ">* We can also see the distributions of the each data\n",
    "\n",
    "\n",
    "**In my analysis I will be looking to explore age and it relationship with show (coming for their appointment) and how sms also influence show (coming for the appiontment)**"
   ]
  },
  {
   "cell_type": "markdown",
   "metadata": {},
   "source": [
    "\n",
    "### Research Question 1: What Age Groups were most likely to showup for their appointment?"
   ]
  },
  {
   "cell_type": "markdown",
   "metadata": {},
   "source": [
    "> **Note:**\n",
    "> I will be dividing the ages into four Categories:\n",
    "> * Pediatric group: 14 year old and below\n",
    "> * Young group: 15 to 47 year old\n",
    "> * Middle age group: 48 to 63 year old\n",
    "> * Elderly group: 65 year old and above\n",
    ">\n",
    ">*Age Categorization reference:* [Age Categorization](https://bmcneurol.biomedcentral.com/articles/10.1186/s12883-020-01888-w#:~:text=Appropriate%20classifications%20of%20the%20age,years%20old%20(elderly%20group))"
   ]
  },
  {
   "cell_type": "code",
   "execution_count": 21,
   "metadata": {},
   "outputs": [],
   "source": [
    "# Before starting I would like to define a functions to avoid repeating code to help categorise the age\n",
    "def age_group (dateframe, columns, min_age, max_age):\n",
    "\n",
    "    \"\"\"\n",
    "    The function accepts four inputs and evaluates them within \n",
    "    the defined conditional statement and categorise into the \n",
    "    different age brackets    \n",
    "    \n",
    "    input :\n",
    "    dataframe: This is the original value that will be divided by it\n",
    "    columns: This will take the name of the column that will take a lifetime\n",
    "    min_age: The takes lower limit age of the column\n",
    "    max_age: the takes higher limit age of the column\n",
    "    \n",
    "    \n",
    "    output :\n",
    "    A new dataframe with all columns in the original one but only the rows which meet the condition.\n",
    "\n",
    "    \"\"\"\n",
    "    if max_age < min_age :\n",
    "        min_age, max_age = max_age , min_age\n",
    "        \n",
    "    return df.query('{} <= {} <= {}'.format(min_age, columns, max_age))"
   ]
  },
  {
   "cell_type": "code",
   "execution_count": 22,
   "metadata": {},
   "outputs": [],
   "source": [
    "# Below I will get dataframe for each age category\n",
    "pediatric_group = df.query('age <= 14')\n",
    "young_group = age_group(df,'age',15, 47)\n",
    "middle_age_group = age_group(df, 'age', 48, 63)\n",
    "elderly_group = df.query('age >= 65')"
   ]
  },
  {
   "cell_type": "code",
   "execution_count": 23,
   "metadata": {},
   "outputs": [],
   "source": [
    "# I will find the mean age for each age group that is most likely show up for the appointment\n",
    "\n",
    "mean_pediatric_group = pediatric_group['show'].mean()\n",
    "mean_young_group = young_group['show'].mean()\n",
    "mean_middle_age_group = middle_age_group['show'].mean()\n",
    "mean_elderly_group = elderly_group['show'].mean()"
   ]
  },
  {
   "cell_type": "code",
   "execution_count": 24,
   "metadata": {},
   "outputs": [
    {
     "data": {
      "image/png": "[encoded data removed]",
      "text/plain": [
       "<Figure size 576x432 with 1 Axes>"
      ]
     },
     "metadata": {
      "needs_background": "light"
     },
     "output_type": "display_data"
    }
   ],
   "source": [
    "# Using matplotlib I plotted the graph of 'Average Show'(Patients that made it to their appointment) \n",
    "# against'Age Categories' (pediatric_group','young_group','middle_age_group','elderly_group') \n",
    "\n",
    "\n",
    "locations = [1, 2, 3, 4]\n",
    "heights = [mean_pediatric_group,mean_young_group,mean_middle_age_group,mean_elderly_group]\n",
    "labels = ['pediatric_group','young_group','middle_age_group','elderly_group']\n",
    "\n",
    "plt.figure(figsize=(8, 6))\n",
    "plt.bar(locations,heights,tick_label = labels)\n",
    "plt.title('Average \"show\" Vs Age Categories')\n",
    "plt.ylim([0.6,1]) #Used this to set limit to the values of y axis to make the graph more visible\n",
    "plt.xlabel('Age Category')\n",
    "plt.ylabel('Average \"show\"')\n",
    "plt.show();"
   ]
  },
  {
   "cell_type": "markdown",
   "metadata": {},
   "source": [
    "> The analysis above shows that the elderly group of age 65 and above showed the most likelihood of showing up for appointments"
   ]
  },
  {
   "cell_type": "markdown",
   "metadata": {},
   "source": [
    "### Research Question 2 :Does recieving SMS influence the likehood of patients showing up Appointments?\n"
   ]
  },
  {
   "cell_type": "code",
   "execution_count": 25,
   "metadata": {},
   "outputs": [
    {
     "data": {
      "text/plain": [
       "sms_received\n",
       "0    0.832967\n",
       "1    0.724255\n",
       "Name: show, dtype: float64"
      ]
     },
     "execution_count": 25,
     "metadata": {},
     "output_type": "execute_result"
    }
   ],
   "source": [
    "# Here I would be looking at if SMS influenced the likehood of patient showing up for their appointment\n",
    "# I will Groupby sms and find the mean of people that came for the appointment\n",
    "\n",
    "sms_df = df.groupby(['sms_received'])['show'].mean()\n",
    "\n",
    "#let's take a look at the new dataframe grouping\n",
    "sms_df"
   ]
  },
  {
   "cell_type": "markdown",
   "metadata": {},
   "source": [
    "> A lot of people who showed up did not received "
   ]
  },
  {
   "cell_type": "code",
   "execution_count": 26,
   "metadata": {
    "scrolled": true
   },
   "outputs": [
    {
     "data": {
      "image/png": "[encoded data removed]",
      "text/plain": [
       "<Figure size 432x432 with 1 Axes>"
      ]
     },
     "metadata": {},
     "output_type": "display_data"
    }
   ],
   "source": [
    "# Let's see the distrubtion in percentage pie chart\n",
    "label= [\"didn't received sms\",\"SMS_received\"]\n",
    "\n",
    "sms_df.plot(kind='pie', labels=label, explode=[0,0.1],autopct='%1.1f%%', figsize =(6,6))\n",
    "plt.suptitle('Percentage of average sms received that came for the appiontment')\n",
    "plt.show();"
   ]
  },
  {
   "cell_type": "markdown",
   "metadata": {},
   "source": [
    "> One would have thought that sms would have influence high turn out\n",
    "> Would could further investigate and see if the sms_received with age have significant influence "
   ]
  },
  {
   "cell_type": "markdown",
   "metadata": {},
   "source": [
    "#### Further Investigation of sms data and age as it influences patients attentance"
   ]
  },
  {
   "cell_type": "code",
   "execution_count": 27,
   "metadata": {},
   "outputs": [
    {
     "name": "stdout",
     "output_type": "stream",
     "text": [
      "The pediatric_ group recorded 71.0 percentage with SMS and 82.0  without SMS.\n"
     ]
    }
   ],
   "source": [
    "# Note we have categorized our age data into four age groups. That would also be used in this analysis\n",
    "# pediatric_group = df.query('age <= 14')\n",
    "\n",
    "\n",
    "sms_rec = round(df.loc[(df['sms_received'] == 1 ) & (df['age']<=14)]['show'].mean(), 2)\n",
    "sms_not_rec = round(df.loc[(df['sms_received']== 0 ) & (df['age'] <=14)]['show'].mean(), 2)\n",
    "\n",
    "print('The pediatric_ group recorded {} percentage with SMS and {}  without SMS.'.format(sms_rec*100, sms_not_rec*100))"
   ]
  },
  {
   "cell_type": "code",
   "execution_count": 28,
   "metadata": {},
   "outputs": [
    {
     "name": "stdout",
     "output_type": "stream",
     "text": [
      "The young_group recorded 68.0 percentage with SMS and 82.0  without SMS.\n"
     ]
    }
   ],
   "source": [
    "# young_group = age_group(df,'age',15, 47)\n",
    "\n",
    "sms_rec = round(df.loc[(df['sms_received'] == 1 ) & (df['age']>14) & (df['age'] <= 47)]['show'].mean(), 2)\n",
    "sms_not_rec = round(df.loc[(df['sms_received']== 0 ) & (df['age']>14) & (df['age'] <= 47)]['show'].mean(), 2)\n",
    "\n",
    "print('The young_group recorded {} percentage with SMS and {}  without SMS.'.format(sms_rec*100, sms_not_rec*100))"
   ]
  },
  {
   "cell_type": "code",
   "execution_count": 29,
   "metadata": {},
   "outputs": [
    {
     "name": "stdout",
     "output_type": "stream",
     "text": [
      "The middle_age_group recorded 78.0 percentage with SMS and 85.0  without SMS.\n"
     ]
    }
   ],
   "source": [
    "# middle_age_group = age_group(df, 'age', 48, 63)\n",
    "\n",
    "sms_rec = round(df.loc[(df['sms_received'] == 1 ) & (df['age']>47) & (df['age'] <= 63)]['show'].mean(), 2)\n",
    "sms_not_rec = round(df.loc[(df['sms_received']== 0 ) & (df['age']>47) & (df['age'] <= 63)]['show'].mean(), 2)\n",
    "\n",
    "print('The middle_age_group recorded {} percentage with SMS and {}  without SMS.'.format(sms_rec*100, sms_not_rec*100))"
   ]
  },
  {
   "cell_type": "code",
   "execution_count": 30,
   "metadata": {},
   "outputs": [
    {
     "name": "stdout",
     "output_type": "stream",
     "text": [
      "The elderly_group recorded 80.0 percentage with SMS and 86.0  without SMS.\n"
     ]
    }
   ],
   "source": [
    "# elderly_group = df.query('age >= 65')\n",
    "\n",
    "sms_rec = round(df.loc[(df['sms_received'] == 1 ) & (df['age']>=65)]['show'].mean(), 2)\n",
    "sms_not_rec = round(df.loc[(df['sms_received']== 0 ) & (df['age']>=65)]['show'].mean(), 2)\n",
    "    \n",
    "print('The elderly_group recorded {} percentage with SMS and {}  without SMS.'.format(sms_rec*100, sms_not_rec*100))"
   ]
  },
  {
   "cell_type": "markdown",
   "metadata": {},
   "source": [
    "> It is clear that the percentage of patient showing ups increased with SMS and increasing age.\n"
   ]
  },
  {
   "cell_type": "markdown",
   "metadata": {},
   "source": [
    "<a id='conclusions'></a>\n",
    "## Conclusions\n",
    "\n",
    "> **Research Question 1**: \n",
    ">* As we can see from the analysis above the elderly age group (ages 65 and above) showed up more for appointments \n",
    ">* Furthermore the middle age group followed then the pediatric age group\n",
    ">* The data showed that fewer young people between the ages of 15 to 47 did not make it for appointments\n",
    "> \n",
    "> **Limitation:**\n",
    ">* The data did not show a detailed approximate distance from place of residence to the hospital which can be a huge factor in making patients not meet up with appointments\n",
    ">* Also, the dataset did not give insight to the occupation and nature of work of each of the patients, we can assume that the ages of 15 to 47 is the active workforce age and schooling age, so the patients might have been carried away with work and other activities which would cause them to miss appointments but that can't be established from the dataset provide\n",
    "\n",
    "\n",
    "> **Research Question 2**:\n",
    ">* The average mean of without recieving sms was about 54%, showing that sms was not really a complying force to show up for appointments\n",
    ">* Going further to investigate the 46.5% that got sms and showed among the different age group, I realized that the elderly age group were keen to showing up and with increasing age came increase in showing up for appointment\n",
    ">* We can conclude that for reminder, sms would work best for middle-aged and elderly age group\n",
    ">\n",
    ">**Limitation:**\n",
    ">* The dataset did not provide if they patients all had phones that have capacities to receieve take\n",
    ">* If they did was their a feedback system to ensure the sms delivered, so we can have a dataset that shows who the sms delivered, so we can accurately measure who got the sms and did not show up for the appointment\n"
   ]
  },
  {
   "cell_type": "markdown",
   "metadata": {},
   "source": [
    "## Reference\n",
    ">* [How To Plot Correlation Matrix In Pandas Python?](https://www.stackvidhya.com/plot-correlation-matrix-in-pandas-python/) \n",
    ">* [Age Categorization](https://bmcneurol.biomedcentral.com/articles/10.1186/s12883-020-01888-w#:~:text=Appropriate%20classifications%20of%20the%20age,years%20old%20(elderly%20group))"
   ]
  }
 ],
 "metadata": {
  "kernelspec": {
   "display_name": "Python 3 (ipykernel)",
   "language": "python",
   "name": "python3"
  },
  "language_info": {
   "codemirror_mode": {
    "name": "ipython",
    "version": 3
   },
   "file_extension": ".py",
   "mimetype": "text/x-python",
   "name": "python",
   "nbconvert_exporter": "python",
   "pygments_lexer": "ipython3",
   "version": "3.9.12"
  }
 },
 "nbformat": 4,
 "nbformat_minor": 2
}
